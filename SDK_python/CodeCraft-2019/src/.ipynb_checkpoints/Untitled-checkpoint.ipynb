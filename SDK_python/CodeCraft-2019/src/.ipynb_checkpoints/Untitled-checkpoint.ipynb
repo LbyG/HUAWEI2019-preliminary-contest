{
 "cells": [
  {
   "cell_type": "code",
   "execution_count": 5,
   "metadata": {
    "scrolled": true
   },
   "outputs": [
    {
     "name": "stdout",
     "output_type": "stream",
     "text": [
      "0.5920146579626501\n",
      "0.8055540935372865\n",
      "0.9380355133001214\n",
      "0.8860072140918965\n",
      "0.7260642525087474\n",
      "0.9085727470969159\n",
      "0.40969323634624755\n",
      "0.8515044136536752\n",
      "0.7375852664372116\n",
      "0.6428050745344446\n"
     ]
    }
   ],
   "source": [
    "import random\n",
    "\n",
    "random.seed(2050)\n",
    "# np.random.seed(2050)\n",
    "for i in range(10):\n",
    "    print(random.random())"
   ]
  },
  {
   "cell_type": "code",
   "execution_count": 3,
   "metadata": {},
   "outputs": [
    {
     "name": "stdout",
     "output_type": "stream",
     "text": [
      "[1, 2, 3, [1, 2]] [1, 2, 3, [1, 2]]\n",
      "[1, 2, 3, [1, 2, 4]] [1, 2, 3, [1, 2, 4]]\n"
     ]
    }
   ],
   "source": [
    "a = [1, 2, 3, [1, 2]]\n",
    "b = a.deepcopy()\n",
    "print(a, b)\n",
    "a[3].append(4)\n",
    "print(a, b)"
   ]
  }
 ],
 "metadata": {
  "kernelspec": {
   "display_name": "pytorch",
   "language": "python",
   "name": "pytorch"
  },
  "language_info": {
   "codemirror_mode": {
    "name": "ipython",
    "version": 3
   },
   "file_extension": ".py",
   "mimetype": "text/x-python",
   "name": "python",
   "nbconvert_exporter": "python",
   "pygments_lexer": "ipython3",
   "version": "3.6.6"
  }
 },
 "nbformat": 4,
 "nbformat_minor": 2
}
